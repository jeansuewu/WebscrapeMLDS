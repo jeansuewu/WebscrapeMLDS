{
 "cells": [
  {
   "cell_type": "code",
   "execution_count": 1,
   "metadata": {},
   "outputs": [],
   "source": [
    "import requests\n",
    "from bs4 import BeautifulSoup\n",
    "import regex as re\n",
    "import pandas as pd"
   ]
  },
  {
   "cell_type": "code",
   "execution_count": 2,
   "metadata": {},
   "outputs": [],
   "source": [
    "url = 'https://www.mccormick.northwestern.edu/machine-learning-data-science/people/alumni/'"
   ]
  },
  {
   "cell_type": "code",
   "execution_count": 3,
   "metadata": {},
   "outputs": [],
   "source": [
    "response = requests.get(url)\n",
    "response.status_code\n",
    "soup = BeautifulSoup(response.text)"
   ]
  },
  {
   "cell_type": "code",
   "execution_count": 4,
   "metadata": {},
   "outputs": [
    {
     "data": {
      "text/plain": [
       "['https://www.mccormick.northwestern.edu/machine-learning-data-science/people/alumni/class-of-2022.html',\n",
       " 'https://www.mccormick.northwestern.edu/machine-learning-data-science/people/alumni/class-of-2021.html',\n",
       " 'https://www.mccormick.northwestern.edu/machine-learning-data-science/people/alumni/class-of-2020.html',\n",
       " 'https://www.mccormick.northwestern.edu/machine-learning-data-science/people/alumni/class-of-2019.html',\n",
       " 'https://www.mccormick.northwestern.edu/machine-learning-data-science/people/alumni/class-of-2018.html',\n",
       " 'https://www.mccormick.northwestern.edu/machine-learning-data-science/people/alumni/class-of-2017.html',\n",
       " 'https://www.mccormick.northwestern.edu/machine-learning-data-science/people/alumni/class-of-2016.html',\n",
       " 'https://www.mccormick.northwestern.edu/machine-learning-data-science/people/alumni/class-of-2015.html',\n",
       " 'https://www.mccormick.northwestern.edu/machine-learning-data-science/people/alumni/class-of-2014.html',\n",
       " 'https://www.mccormick.northwestern.edu/machine-learning-data-science/people/alumni/class-of-2013.html']"
      ]
     },
     "execution_count": 4,
     "metadata": {},
     "output_type": "execute_result"
    }
   ],
   "source": [
    "# Get all the links for each class\n",
    "class_links = []\n",
    "for i in soup.select('[title*=\"Class of\"]'):\n",
    "   class_links.append(\"https://www.mccormick.northwestern.edu/machine-learning-data-science/people/alumni/\" + i['href'])\n",
    "    \n",
    "class_links\n"
   ]
  },
  {
   "cell_type": "code",
   "execution_count": 5,
   "metadata": {},
   "outputs": [],
   "source": [
    "# Create empty dictionary\n",
    "info={}\n",
    "# Loop through all the links\n",
    "for link in class_links:\n",
    "    response = requests.get(link)\n",
    "    response.status_code\n",
    "    soup = BeautifulSoup(response.text)\n",
    "\n",
    "\n",
    "    for i in soup.find_all(class_='faculty cf'):\n",
    "        name=i.find('h3') # Find student name     \n",
    "        year=i.find('em') # Find studnet graduation year\n",
    "        pattern = r'(.+?)\\s+at(?:&nbsp;)?(.+)'  # Pattern to parse role and compnay\n",
    "        \n",
    "        try:\n",
    "            role_company=i.find(class_='student-alumni-details') # Find job details\n",
    "            match = re.search(pattern, role_company.text) # Parse the job detail\n",
    "            name, currrent_role, company, year = name.text, match.group(1), match.group(2), int(re.findall(r'\\d+', year.text)[0])\n",
    "            info[name]=currrent_role, company, year # Add alum to the dictionary\n",
    "        except AttributeError: # Exception when company and role is missing\n",
    "            name, currrent_role, company, year = name.text, None, None, int(re.findall(r'\\d+', year.text)[0])\n",
    "            info[name]=currrent_role, company, year\n",
    "\n",
    "\n"
   ]
  },
  {
   "cell_type": "code",
   "execution_count": 6,
   "metadata": {},
   "outputs": [
    {
     "data": {
      "text/html": [
       "<div>\n",
       "<style scoped>\n",
       "    .dataframe tbody tr th:only-of-type {\n",
       "        vertical-align: middle;\n",
       "    }\n",
       "\n",
       "    .dataframe tbody tr th {\n",
       "        vertical-align: top;\n",
       "    }\n",
       "\n",
       "    .dataframe thead th {\n",
       "        text-align: right;\n",
       "    }\n",
       "</style>\n",
       "<table border=\"1\" class=\"dataframe\">\n",
       "  <thead>\n",
       "    <tr style=\"text-align: right;\">\n",
       "      <th></th>\n",
       "      <th>Name</th>\n",
       "      <th>current Role</th>\n",
       "      <th>current Company</th>\n",
       "      <th>Graduation Year</th>\n",
       "    </tr>\n",
       "  </thead>\n",
       "  <tbody>\n",
       "    <tr>\n",
       "      <th>0</th>\n",
       "      <td>Alisher  Akhatov</td>\n",
       "      <td>Data Scientist</td>\n",
       "      <td>The Trade Desk</td>\n",
       "      <td>2022</td>\n",
       "    </tr>\n",
       "    <tr>\n",
       "      <th>1</th>\n",
       "      <td>Haoyang (Bill)  Cai</td>\n",
       "      <td>Senior Analyst, Data Science &amp; Analytics</td>\n",
       "      <td>TransUnion</td>\n",
       "      <td>2022</td>\n",
       "    </tr>\n",
       "    <tr>\n",
       "      <th>2</th>\n",
       "      <td>Qianyin (Charlotte)  Cao</td>\n",
       "      <td>Senior Analyst, Data Science &amp; Analytics</td>\n",
       "      <td>TransUnion</td>\n",
       "      <td>2022</td>\n",
       "    </tr>\n",
       "    <tr>\n",
       "      <th>3</th>\n",
       "      <td>Bairui (Barry)  Chen</td>\n",
       "      <td>Data Scientist</td>\n",
       "      <td>Walmart</td>\n",
       "      <td>2022</td>\n",
       "    </tr>\n",
       "    <tr>\n",
       "      <th>4</th>\n",
       "      <td>Narin  Dhatwalia</td>\n",
       "      <td>Senior Analyst, Data Science &amp; Analytics</td>\n",
       "      <td>TransUnion</td>\n",
       "      <td>2022</td>\n",
       "    </tr>\n",
       "    <tr>\n",
       "      <th>...</th>\n",
       "      <td>...</td>\n",
       "      <td>...</td>\n",
       "      <td>...</td>\n",
       "      <td>...</td>\n",
       "    </tr>\n",
       "    <tr>\n",
       "      <th>381</th>\n",
       "      <td>Colin Watts-Fitzgerald</td>\n",
       "      <td>Lead Data Scientist</td>\n",
       "      <td>HERE Technologies</td>\n",
       "      <td>2013</td>\n",
       "    </tr>\n",
       "    <tr>\n",
       "      <th>382</th>\n",
       "      <td>Qifan Wu</td>\n",
       "      <td>Director, Strategy Data Science</td>\n",
       "      <td>ByteDance</td>\n",
       "      <td>2013</td>\n",
       "    </tr>\n",
       "    <tr>\n",
       "      <th>383</th>\n",
       "      <td>Robert Yan Xue</td>\n",
       "      <td>Data Science Manager</td>\n",
       "      <td>Outreach</td>\n",
       "      <td>2013</td>\n",
       "    </tr>\n",
       "    <tr>\n",
       "      <th>384</th>\n",
       "      <td>Qi Yang</td>\n",
       "      <td>CEO</td>\n",
       "      <td>深圳酒香天下酒业有限公司</td>\n",
       "      <td>2013</td>\n",
       "    </tr>\n",
       "    <tr>\n",
       "      <th>385</th>\n",
       "      <td>Alice Zhao</td>\n",
       "      <td>Data Scientist, Instructor</td>\n",
       "      <td>A Dash of Data &amp; Author of SQL Pocket Guide (O...</td>\n",
       "      <td>2013</td>\n",
       "    </tr>\n",
       "  </tbody>\n",
       "</table>\n",
       "<p>386 rows × 4 columns</p>\n",
       "</div>"
      ],
      "text/plain": [
       "                         Name                              current Role  \\\n",
       "0           Alisher  Akhatov                             Data Scientist   \n",
       "1         Haoyang (Bill)  Cai  Senior Analyst, Data Science & Analytics   \n",
       "2    Qianyin (Charlotte)  Cao  Senior Analyst, Data Science & Analytics   \n",
       "3        Bairui (Barry)  Chen                            Data Scientist   \n",
       "4           Narin  Dhatwalia   Senior Analyst, Data Science & Analytics   \n",
       "..                        ...                                       ...   \n",
       "381    Colin Watts-Fitzgerald                       Lead Data Scientist   \n",
       "382                  Qifan Wu           Director, Strategy Data Science   \n",
       "383            Robert Yan Xue                      Data Science Manager   \n",
       "384                   Qi Yang                                       CEO   \n",
       "385                Alice Zhao                Data Scientist, Instructor   \n",
       "\n",
       "                                       current Company  Graduation Year  \n",
       "0                                       The Trade Desk             2022  \n",
       "1                                           TransUnion             2022  \n",
       "2                                           TransUnion             2022  \n",
       "3                                              Walmart             2022  \n",
       "4                                           TransUnion             2022  \n",
       "..                                                 ...              ...  \n",
       "381                                  HERE Technologies             2013  \n",
       "382                                          ByteDance             2013  \n",
       "383                                           Outreach             2013  \n",
       "384                                       深圳酒香天下酒业有限公司             2013  \n",
       "385  A Dash of Data & Author of SQL Pocket Guide (O...             2013  \n",
       "\n",
       "[386 rows x 4 columns]"
      ]
     },
     "execution_count": 6,
     "metadata": {},
     "output_type": "execute_result"
    }
   ],
   "source": [
    "# Convert dictionary to dataframe\n",
    "df = pd.DataFrame(info.values(), columns=['current Role', 'current Company', 'Graduation Year'], index=info.keys())\n",
    "df.reset_index(level=0, inplace=True)\n",
    "df.rename(columns={'index': 'Name'}, inplace=True)\n",
    "\n",
    "# Get rid of trailing spaces\n",
    "df['current Company']= df['current Company'].str.strip()\n",
    "df['current Role']= df['current Role'].str.strip()\n",
    "\n",
    "df\n"
   ]
  },
  {
   "cell_type": "markdown",
   "metadata": {},
   "source": [
    "What are the top 5 companies that alumni are working at?\n"
   ]
  },
  {
   "cell_type": "code",
   "execution_count": 7,
   "metadata": {},
   "outputs": [
    {
     "data": {
      "text/html": [
       "<div>\n",
       "<style scoped>\n",
       "    .dataframe tbody tr th:only-of-type {\n",
       "        vertical-align: middle;\n",
       "    }\n",
       "\n",
       "    .dataframe tbody tr th {\n",
       "        vertical-align: top;\n",
       "    }\n",
       "\n",
       "    .dataframe thead th {\n",
       "        text-align: right;\n",
       "    }\n",
       "</style>\n",
       "<table border=\"1\" class=\"dataframe\">\n",
       "  <thead>\n",
       "    <tr style=\"text-align: right;\">\n",
       "      <th></th>\n",
       "      <th>current Company</th>\n",
       "      <th>Name</th>\n",
       "    </tr>\n",
       "  </thead>\n",
       "  <tbody>\n",
       "    <tr>\n",
       "      <th>0</th>\n",
       "      <td>Meta</td>\n",
       "      <td>26</td>\n",
       "    </tr>\n",
       "    <tr>\n",
       "      <th>1</th>\n",
       "      <td>TransUnion</td>\n",
       "      <td>15</td>\n",
       "    </tr>\n",
       "    <tr>\n",
       "      <th>2</th>\n",
       "      <td>Amazon</td>\n",
       "      <td>11</td>\n",
       "    </tr>\n",
       "    <tr>\n",
       "      <th>3</th>\n",
       "      <td>Coupa Software</td>\n",
       "      <td>8</td>\n",
       "    </tr>\n",
       "    <tr>\n",
       "      <th>4</th>\n",
       "      <td>LinkedIn</td>\n",
       "      <td>6</td>\n",
       "    </tr>\n",
       "  </tbody>\n",
       "</table>\n",
       "</div>"
      ],
      "text/plain": [
       "  current Company  Name\n",
       "0            Meta    26\n",
       "1      TransUnion    15\n",
       "2          Amazon    11\n",
       "3  Coupa Software     8\n",
       "4        LinkedIn     6"
      ]
     },
     "execution_count": 7,
     "metadata": {},
     "output_type": "execute_result"
    }
   ],
   "source": [
    "# Consider name change: Facebook to Meta\n",
    "df['current Company'] = df['current Company'].str.replace('Facebook', 'Meta')\n",
    "\n",
    "(df.groupby(['current Company'])['Name']\n",
    " .count() \n",
    " .sort_values(ascending=False)\n",
    " .reset_index()\n",
    " .head(5)\n",
    ")"
   ]
  },
  {
   "cell_type": "markdown",
   "metadata": {},
   "source": [
    "What are two other interesting insights you can gather from the data?"
   ]
  },
  {
   "cell_type": "markdown",
   "metadata": {},
   "source": [
    "1.\n",
    "Which graduating class has students ending up with the most number of unique companies? "
   ]
  },
  {
   "cell_type": "code",
   "execution_count": 8,
   "metadata": {},
   "outputs": [
    {
     "data": {
      "text/html": [
       "<div>\n",
       "<style scoped>\n",
       "    .dataframe tbody tr th:only-of-type {\n",
       "        vertical-align: middle;\n",
       "    }\n",
       "\n",
       "    .dataframe tbody tr th {\n",
       "        vertical-align: top;\n",
       "    }\n",
       "\n",
       "    .dataframe thead th {\n",
       "        text-align: right;\n",
       "    }\n",
       "</style>\n",
       "<table border=\"1\" class=\"dataframe\">\n",
       "  <thead>\n",
       "    <tr style=\"text-align: right;\">\n",
       "      <th></th>\n",
       "      <th>Graduation Year</th>\n",
       "      <th>current Company</th>\n",
       "    </tr>\n",
       "  </thead>\n",
       "  <tbody>\n",
       "    <tr>\n",
       "      <th>0</th>\n",
       "      <td>2019</td>\n",
       "      <td>37</td>\n",
       "    </tr>\n",
       "  </tbody>\n",
       "</table>\n",
       "</div>"
      ],
      "text/plain": [
       "   Graduation Year  current Company\n",
       "0             2019               37"
      ]
     },
     "execution_count": 8,
     "metadata": {},
     "output_type": "execute_result"
    }
   ],
   "source": [
    "(df.groupby(['Graduation Year'])['current Company']\n",
    " .nunique()\n",
    " .sort_values(ascending=False)\n",
    " .head(1)\n",
    " .reset_index()\n",
    ")"
   ]
  },
  {
   "cell_type": "markdown",
   "metadata": {},
   "source": [
    "2. \n",
    "What are the top roles that MLDS students take on after graduation across the years?"
   ]
  },
  {
   "cell_type": "code",
   "execution_count": 9,
   "metadata": {},
   "outputs": [
    {
     "data": {
      "text/plain": [
       "Graduation Year  current Role            \n",
       "2013             Principal Data Scientist     2\n",
       "2014             Data Scientist               6\n",
       "2015             Senior Data Scientist        5\n",
       "2016             Data Scientist               6\n",
       "2017             Data Scientist              10\n",
       "2018             Data Scientist              16\n",
       "2019             Data Scientist              14\n",
       "2020             Data Scientist              24\n",
       "2021             Data Scientist              14\n",
       "2022             Data Scientist              14\n",
       "Name: current Role, dtype: int64"
      ]
     },
     "execution_count": 9,
     "metadata": {},
     "output_type": "execute_result"
    }
   ],
   "source": [
    "(df.groupby(['Graduation Year', 'current Role'])['current Role']\n",
    " .count()\n",
    " .groupby('Graduation Year')\n",
    " .nlargest(1)\n",
    " .reset_index(level=1, drop=True)\n",
    ")"
   ]
  }
 ],
 "metadata": {
  "kernelspec": {
   "display_name": "base",
   "language": "python",
   "name": "python3"
  },
  "language_info": {
   "codemirror_mode": {
    "name": "ipython",
    "version": 3
   },
   "file_extension": ".py",
   "mimetype": "text/x-python",
   "name": "python",
   "nbconvert_exporter": "python",
   "pygments_lexer": "ipython3",
   "version": "3.11.4"
  }
 },
 "nbformat": 4,
 "nbformat_minor": 2
}
